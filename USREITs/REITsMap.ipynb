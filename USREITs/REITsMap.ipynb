{
 "cells": [
  {
   "cell_type": "code",
   "execution_count": 1,
   "metadata": {},
   "outputs": [
    {
     "name": "stdout",
     "output_type": "stream",
     "text": [
      "Requirement already satisfied: echarts-countries-pypkg in d:\\venv\\test\\lib\\site-packages (0.1.6)\n",
      "Requirement already satisfied: lml>=0.0.2 in d:\\venv\\test\\lib\\site-packages (from echarts-countries-pypkg) (0.0.2)\n",
      "Requirement already satisfied: pyecharts-jupyter-installer==0.0.3 in d:\\venv\\test\\lib\\site-packages (from echarts-countries-pypkg) (0.0.3)\n"
     ]
    },
    {
     "name": "stderr",
     "output_type": "stream",
     "text": [
      "You are using pip version 10.0.1, however version 18.1 is available.\n",
      "You should consider upgrading via the 'python -m pip install --upgrade pip' command.\n"
     ]
    }
   ],
   "source": [
    "!pip install echarts-countries-pypkg"
   ]
  },
  {
   "cell_type": "code",
   "execution_count": 13,
   "metadata": {},
   "outputs": [],
   "source": [
    "from pyecharts import Map\n",
    "import echarts_countries_pypkg\n",
    "value = [\n",
    "    58,1,1,1,1,4,1,1,1,20,16,38,2,\n",
    "    19,49,1,28,5,4,1,3,5,1,3,61,28,54,\n",
    "    11,61,17,1,2,1,33,6,5,36,\n",
    "    267,43\n",
    "]\n",
    "attr= [\n",
    "    'Australia','Bahrain','Botswana','Brazil','Egypt','Israel','Jamaica','Kenya','Mauritius','Mexico','Saui Arabia','South Africa','United Arab Emirates',\n",
    "    'Belgium','Bulgaria','Finland','France','Germany','Greece','Guernsey','Ireland','Italy','Jersey','Netherlands','Spain','Turkey','United Kingdom',\n",
    "    'China','Japan','Malaysia','Nepal','New Zealand','Pakistan','Singapore','South Korea','Taiwan','Thailand',\n",
    "    'United States','Canada'\n",
    "]\n",
    "\n",
    "map = Map(\"World REITs Map\", width=1200, height=600)\n",
    "map.add(\n",
    "    \"REITs number\",\n",
    "    attr,\n",
    "    value,\n",
    "    maptype=\"world\",\n",
    "    \n",
    "    is_visualmap=True,\n",
    "    is_map_symbol_show=False,\n",
    "    visual_text_color=\"#001\",\n",
    ")\n",
    "map.render('World REITs map.html')"
   ]
  },
  {
   "cell_type": "code",
   "execution_count": null,
   "metadata": {},
   "outputs": [],
   "source": []
  }
 ],
 "metadata": {
  "kernelspec": {
   "display_name": "Python 3",
   "language": "python",
   "name": "python3"
  },
  "language_info": {
   "codemirror_mode": {
    "name": "ipython",
    "version": 3
   },
   "file_extension": ".py",
   "mimetype": "text/x-python",
   "name": "python",
   "nbconvert_exporter": "python",
   "pygments_lexer": "ipython3",
   "version": "3.7.0"
  }
 },
 "nbformat": 4,
 "nbformat_minor": 2
}
