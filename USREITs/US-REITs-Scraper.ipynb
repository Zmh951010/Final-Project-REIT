{
 "cells": [
  {
   "cell_type": "code",
   "execution_count": 376,
   "metadata": {},
   "outputs": [],
   "source": [
    "import requests\n",
    "import bs4\n",
    "import csv\n",
    "from bs4 import BeautifulSoup\n",
    "import pandas as pd"
   ]
  },
  {
   "cell_type": "code",
   "execution_count": 377,
   "metadata": {},
   "outputs": [],
   "source": [
    "def get_the_code(url):  \n",
    "    r = requests.get(url)\n",
    "    mypage = bs4.BeautifulSoup(r.text)\n",
    "    mytable = mypage.find('tbody')\n",
    "    name = [span.text for span in mytable.select('td.views-field-title span')]\n",
    "    code = []\n",
    "    a = 0\n",
    "    while a < len(name):\n",
    "        code.append(name[a])\n",
    "        a += 2\n",
    "    \n",
    "    return code"
   ]
  },
  {
   "cell_type": "code",
   "execution_count": 378,
   "metadata": {},
   "outputs": [],
   "source": [
    "url_list=[]\n",
    "for i in range(0,20):\n",
    "    page_number=str(i)\n",
    "    url = 'https://www.reit.com/investing/reit-funds/table?page=' + page_number +''\n",
    "    url_list.append(url)"
   ]
  },
  {
   "cell_type": "code",
   "execution_count": 379,
   "metadata": {},
   "outputs": [],
   "source": [
    "US_code_list = []\n",
    "for spot in url_list:\n",
    "    my = get_the_code(spot)\n",
    "    US_code_list.extend(my)"
   ]
  },
  {
   "cell_type": "code",
   "execution_count": 462,
   "metadata": {},
   "outputs": [],
   "source": [
    "ETF = ['MORT','TAO','VNQ','RWO','REZ','FFR','GQRE','IYR','VNQI','REM','REET','WPS','SCHH','GRI',\n",
    "       'ICF','WREI','RWR','FRI','ROOF','IFEU','IFGL','KBWY','PFFR','PGZ','RNP','RFI','RIT','PSR','JDD',\n",
    "      'IGR','AWP','RREDX','GIREX','VGSRX','TIPRX','USRT','NRO','DRW','RWX']"
   ]
  },
  {
   "cell_type": "code",
   "execution_count": 463,
   "metadata": {},
   "outputs": [],
   "source": [
    "for i in US_code_list:\n",
    "    if i in ETF:\n",
    "        US_code_list.remove(i)"
   ]
  },
  {
   "cell_type": "code",
   "execution_count": 465,
   "metadata": {},
   "outputs": [],
   "source": [
    "def get_the_info(url):  \n",
    "    r1 = requests.get(url)\n",
    "    \n",
    "    mypage = bs4.BeautifulSoup(r1.text)\n",
    "    name = [h1.text for h1 in mypage.select('h1.D(ib)')]\n",
    "    info = [span.text for span in mypage.select('td.Ta(end).Fw(b).Lh(14px) span')]\n",
    "    YTD_Return = info[1]\n",
    "    Net_Assets = info[8]\n",
    "    Yield = info[10]\n",
    "    page_content=[name[0], YTD_Return, Net_Assets, Yield]\n",
    "    \n",
    "    return page_content"
   ]
  },
  {
   "cell_type": "code",
   "execution_count": 466,
   "metadata": {},
   "outputs": [],
   "source": [
    "url_list2=[]\n",
    "for i in range(0,311):\n",
    "    ticker=US_code_list[i]\n",
    "    url = 'https://finance.yahoo.com/quote/'+ ticker +'?p='+ ticker +''\n",
    "    url_list2.append(url)"
   ]
  },
  {
   "cell_type": "code",
   "execution_count": 468,
   "metadata": {},
   "outputs": [],
   "source": [
    "Equity_REITs_info = []\n",
    "for spot in url_list2:\n",
    "    my = [get_the_info(spot)]\n",
    "    Equity_REITs_info.extend(my)"
   ]
  },
  {
   "cell_type": "code",
   "execution_count": 472,
   "metadata": {},
   "outputs": [],
   "source": [
    "with open('US_REITS_Performance.csv', 'w', newline='') as csvfile:\n",
    "    spamwriter = csv.writer(csvfile)\n",
    "    header= ['ticker','YTD_Return','Net_Assets','Yield']\n",
    "    spamwriter.writerow(header)\n",
    "    spamwriter.writerows(Equity_REITs_info)"
   ]
  }
 ],
 "metadata": {
  "kernelspec": {
   "display_name": "Python 3",
   "language": "python",
   "name": "python3"
  },
  "language_info": {
   "codemirror_mode": {
    "name": "ipython",
    "version": 3
   },
   "file_extension": ".py",
   "mimetype": "text/x-python",
   "name": "python",
   "nbconvert_exporter": "python",
   "pygments_lexer": "ipython3",
   "version": "3.7.0"
  }
 },
 "nbformat": 4,
 "nbformat_minor": 2
}
