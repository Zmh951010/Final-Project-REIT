{
 "cells": [
  {
   "cell_type": "code",
   "execution_count": 2,
   "metadata": {},
   "outputs": [],
   "source": [
    "import pandas as pd"
   ]
  },
  {
   "cell_type": "code",
   "execution_count": 3,
   "metadata": {},
   "outputs": [],
   "source": [
    "df = pd.read_csv('reit quarter.csv')"
   ]
  },
  {
   "cell_type": "code",
   "execution_count": 4,
   "metadata": {},
   "outputs": [],
   "source": [
    "df=df.dropna()"
   ]
  },
  {
   "cell_type": "code",
   "execution_count": 5,
   "metadata": {},
   "outputs": [],
   "source": [
    "REIT = df['REIT quarter'].str.strip(\"%\").astype(float)/100\n",
    "Nikkei = df['Nikkei 225 quarter'].str.strip(\"%\").astype(float)/100\n",
    "CPI = df['CPI quarter'].str.strip(\"%\").astype(float)/100\n",
    "GB = df['Government Bond yield quarter'].str.strip(\"%\").astype(float)/100\n",
    "SR = df['immediate saving rate quarter'].str.strip(\"%\").astype(float)/100\n",
    "GPIF = df['GPIF quarter'].str.strip(\"%\").astype(float)/100\n",
    "RPP = df['property price quarter'].str.strip(\"%\").astype(float)/100"
   ]
  },
  {
   "cell_type": "code",
   "execution_count": 6,
   "metadata": {},
   "outputs": [],
   "source": [
    "df['property price quarter']=RPP\n",
    "df['REIT quarter']=REIT\n",
    "df['Nikkei 225 quarter']=Nikkei\n",
    "df['CPI quarter'] = CPI\n",
    "df['Government Bond yield quarter']=GB\n",
    "df['immediate saving rate quarter']=SR\n",
    "df['GPIF quarter']=GPIF"
   ]
  },
  {
   "cell_type": "code",
   "execution_count": 7,
   "metadata": {},
   "outputs": [
    {
     "name": "stderr",
     "output_type": "stream",
     "text": [
      "ERROR:lml.utils:failed to import pyecharts_snapshot\n",
      "Traceback (most recent call last):\n",
      "  File \"c:\\python37\\lib\\site-packages\\lml\\utils.py\", line 43, in do_import\n",
      "    plugin_module = __import__(plugin_module_name)\n",
      "ModuleNotFoundError: No module named 'pyecharts_snapshot'\n"
     ]
    }
   ],
   "source": [
    "from pyecharts import Line"
   ]
  },
  {
   "cell_type": "code",
   "execution_count": 30,
   "metadata": {},
   "outputs": [],
   "source": [
    "line = Line(\"Different Investment Return Comparison (Japan, 2008-2018) \",width=1200, height=600)\n",
    "line.add(\"REIT\", df['Years'], df['REIT quarter'], mark_line=[\"average\"])\n",
    "line.add(\"Nikkei 225\", df[\"Years\"], df['Nikkei 225 quarter'], mark_line=[\"average\"])\n",
    "line.add(\"CPI\",df[\"Years\"], df['CPI quarter'], mark_line=[\"average\"])\n",
    "line.add(\"Government Bond\", df[\"Years\"], df['Government Bond yield quarter'], mark_line=[\"average\"])\n",
    "line.add(\"Saving Rate\", df[\"Years\"], df['immediate saving rate quarter'], mark_line=[\"average\"])\n",
    "line.add(\"Residential Property\", df[\"Years\"], df['property price quarter'], mark_line=[\"average\"])\n",
    "line.add(\"Pension Fund\", df[\"Years\"], df['GPIF quarter'], mark_line=[\"average\"],\n",
    "         legend_orient='vertical',\n",
    "         is_datazoom_show=True,\n",
    "         datazoom_type='slider',\n",
    "         legend_top='top',\n",
    "         legend_pos='right',\n",
    "         \n",
    "        \n",
    "        )\n",
    "line.render('lines.html')"
   ]
  },
  {
   "cell_type": "code",
   "execution_count": 9,
   "metadata": {},
   "outputs": [],
   "source": [
    "tenyears=list(df.loc[:,'REIT quarter':'GPIF quarter'].sum())"
   ]
  },
  {
   "cell_type": "code",
   "execution_count": 10,
   "metadata": {},
   "outputs": [],
   "source": [
    "fiveyears=list(df.loc[19:38, 'REIT quarter':'GPIF quarter'].sum())"
   ]
  },
  {
   "cell_type": "code",
   "execution_count": 11,
   "metadata": {},
   "outputs": [],
   "source": [
    "oneyear=list(df.loc[35:38, 'REIT quarter':'GPIF quarter'].sum())"
   ]
  },
  {
   "cell_type": "code",
   "execution_count": 12,
   "metadata": {},
   "outputs": [],
   "source": [
    "attr=df.columns.values.tolist() "
   ]
  },
  {
   "cell_type": "code",
   "execution_count": 13,
   "metadata": {},
   "outputs": [
    {
     "data": {
      "text/plain": [
       "'Years'"
      ]
     },
     "execution_count": 13,
     "metadata": {},
     "output_type": "execute_result"
    }
   ],
   "source": [
    "attr.pop(0)"
   ]
  },
  {
   "cell_type": "code",
   "execution_count": 14,
   "metadata": {},
   "outputs": [],
   "source": [
    "attr=['REIT', 'Nikkei 225', 'CPI', 'Government Bond','Saving Rate', 'Residential Price', 'GPIF']\n",
    "attr1=[\"REIT\", \"Nikkei 225\", \"CPI\", \"Government Bond\", \"Saving Rate\", \"Residential Price\", \"GPIF\"]"
   ]
  },
  {
   "cell_type": "code",
   "execution_count": 15,
   "metadata": {},
   "outputs": [],
   "source": [
    "from pyecharts import Bar"
   ]
  },
  {
   "cell_type": "code",
   "execution_count": 16,
   "metadata": {},
   "outputs": [],
   "source": [
    "bar = Bar(\"10-Year/5-Year/1-Year Accumulated Return Rate Comparison (Japan, 2008-2018)\", width=1200, height=600)\n",
    "bar.add(\"10-Year\", attr, tenyears)\n",
    "bar.add(\"5-Year\", attr, fiveyears)\n",
    "bar.add(\"1-Year\", attr, oneyear,\n",
    "        legend_orient='vertical',\n",
    "        \n",
    "        legend_top='10%',\n",
    "        legend_pos='right')\n",
    "bar.render('bar.html')"
   ]
  },
  {
   "cell_type": "code",
   "execution_count": 17,
   "metadata": {},
   "outputs": [],
   "source": [
    "corrmat=df.corr()"
   ]
  },
  {
   "cell_type": "code",
   "execution_count": 18,
   "metadata": {},
   "outputs": [],
   "source": [
    "correl = [[i, j, corrmat.iloc[i-1, j-1]] for i in range(7) for j in range(7)]"
   ]
  },
  {
   "cell_type": "code",
   "execution_count": 19,
   "metadata": {},
   "outputs": [
    {
     "name": "stdout",
     "output_type": "stream",
     "text": [
      "Requirement already satisfied: jupyter-echarts-pypkg==0.1.1 in c:\\python37\\lib\\site-packages (0.1.1)\n",
      "Requirement already satisfied: lml==0.0.2 in c:\\python37\\lib\\site-packages (from jupyter-echarts-pypkg==0.1.1) (0.0.2)\n",
      "Requirement already satisfied: pyecharts-jupyter-installer==0.0.3 in c:\\python37\\lib\\site-packages (from jupyter-echarts-pypkg==0.1.1) (0.0.3)\n"
     ]
    }
   ],
   "source": [
    "!pip install jupyter-echarts-pypkg==0.1.1"
   ]
  },
  {
   "cell_type": "code",
   "execution_count": 20,
   "metadata": {},
   "outputs": [],
   "source": [
    "from pyecharts import HeatMap\n",
    "heatmap = HeatMap('Correlation Matrix of Different Type of Investment', width=1200, height=1050)\n",
    "heatmap.add(\"Corr\",\n",
    "    [\"REIT\", \"Nikkei 225\", \"CPI\", \"Government Bond\", \"Saving Rate\", \"Residential Price\", \"GPIF\"], \n",
    "    [\"REIT\", \"Nikkei 225\", \"CPI\", \"Government Bond\", \"Saving Rate\", \"Residential Price\", \"GPIF\"],       \n",
    "    correl,\n",
    "    \n",
    "    #xaxis_type='category',\n",
    "    #xaxis_interval=0,\n",
    "    xaxis_pos='top',\n",
    "    #yaxis_type='category',\n",
    "    #yaxis_interval=0,\n",
    "    is_yaxis_inverse=True,\n",
    "    is_label_show=True,\n",
    "    is_visualmap=True,\n",
    "    visual_text_color=\"#000\",\n",
    "    visual_range_color=['#1E90FF','#FFFFFF','#FF0000'],\n",
    "    visual_range=[-1, 1],\n",
    "    visual_pos='right',\n",
    "    visual_top='top',\n",
    "    is_legend_show=False\n",
    "           )\n",
    "heatmap.render(\"japanheat.html\")"
   ]
  },
  {
   "cell_type": "code",
   "execution_count": 21,
   "metadata": {},
   "outputs": [],
   "source": [
    "CREIT = pd.read_csv('kd.csv')"
   ]
  },
  {
   "cell_type": "code",
   "execution_count": 22,
   "metadata": {},
   "outputs": [],
   "source": [
    "CREIT = CREIT.dropna()"
   ]
  },
  {
   "cell_type": "code",
   "execution_count": 23,
   "metadata": {},
   "outputs": [],
   "source": [
    "CREIT=CREIT.sort_index(ascending=False)"
   ]
  },
  {
   "cell_type": "code",
   "execution_count": 24,
   "metadata": {},
   "outputs": [],
   "source": [
    "line = Line(\"Overseas C-REIT History Price Change\",width=1200, height=600)\n",
    "line.add(\"CapitaLand\", CREIT['Date'], CREIT['Kaide'], mark_line=[\"average\"])\n",
    "line.add(\"Hui Xian\", CREIT[\"Date\"], CREIT['Huide'], mark_line=[\"average\"])\n",
    "line.add(\"BHG\", CREIT[\"Date\"], CREIT['Hualian'], mark_line=[\"average\"])\n",
    "line.add(\"New Century\", CREIT[\"Date\"], CREIT['Kaiyuan'], mark_line=[\"average\"])\n",
    "line.add(\"Yuexiu\", CREIT[\"Date\"], CREIT['Yuexiu'], mark_line=[\"average\"])\n",
    "line.add(\"Spring\", CREIT[\"Date\"], CREIT['Chunquan'], mark_line=[\"average\"],\n",
    "\n",
    "         legend_orient='vertical',\n",
    "         is_datazoom_show=True,\n",
    "         datazoom_type='slider',\n",
    "         legend_top='top',\n",
    "         legend_pos='right',\n",
    "         \n",
    "        \n",
    "        )\n",
    "line.render('CREITs.html')"
   ]
  },
  {
   "cell_type": "code",
   "execution_count": 25,
   "metadata": {},
   "outputs": [],
   "source": [
    "alltime=list(CREIT.sum())"
   ]
  },
  {
   "cell_type": "code",
   "execution_count": 26,
   "metadata": {},
   "outputs": [
    {
     "data": {
      "text/plain": [
       "'2011/5/312011/6/302011/7/292011/8/312011/9/302011/10/312011/11/302011/12/302012/1/312012/2/292012/3/302012/4/302012/5/312012/6/292012/7/312012/8/312012/9/282012/10/312012/11/302012/12/312013/1/312013/2/282013/3/292013/4/302013/5/312013/6/282013/7/312013/8/302013/9/302013/10/312013/11/292013/12/312014/1/312014/2/282014/3/312014/4/302014/5/302014/6/302014/7/312014/8/292014/9/302014/10/312014/11/282014/12/312015/1/302015/2/272015/3/312015/4/302015/5/292015/6/302015/7/312015/8/312015/9/302015/10/302015/11/302015/12/312016/1/292016/2/292016/3/312016/4/292016/5/312016/6/302016/7/292016/8/312016/9/302016/10/312016/11/302016/12/302017/1/312017/2/282017/3/312017/4/282017/5/312017/6/302017/7/312017/8/312017/9/292017/10/312017/11/302017/12/292018/1/312018/2/282018/3/302018/4/302018/5/312018/6/292018/7/312018/8/312018/9/282018/10/312018/11/30'"
      ]
     },
     "execution_count": 26,
     "metadata": {},
     "output_type": "execute_result"
    }
   ],
   "source": [
    "alltime.pop(0)"
   ]
  },
  {
   "cell_type": "code",
   "execution_count": 27,
   "metadata": {},
   "outputs": [],
   "source": [
    "fiveyear_C=list(CREIT.loc[61:1, 'Kaide':'Chunquan'].sum())"
   ]
  },
  {
   "cell_type": "code",
   "execution_count": 28,
   "metadata": {},
   "outputs": [],
   "source": [
    "oneyear_C=list(CREIT.loc[12:1, 'Kaide':'Chunquan'].sum())"
   ]
  },
  {
   "cell_type": "code",
   "execution_count": 29,
   "metadata": {},
   "outputs": [],
   "source": [
    "from pyecharts import Bar\n",
    "bar = Bar(\"10-Year/5-Year/1-Year Accumulated Return Rate Comparison\", width=1200, height=600)\n",
    "bar.add(\"10-Year\", ['Capitaland', 'Hui Xian', 'New Century', 'Yuexiu', 'BHG', 'Spring'], alltime)\n",
    "bar.add(\"5-Year\", ['Capitaland', 'Hui Xian', 'New Century', 'Yuexiu', 'BHG', 'Spring'], fiveyear_C)\n",
    "bar.add(\"1-Year\", ['Capitaland', 'Hui Xian', 'New Century', 'Yuexiu', 'BHG', 'Spring'], oneyear_C,\n",
    "        legend_orient='vertical',\n",
    "        \n",
    "        legend_top='10%',\n",
    "        legend_pos='right')\n",
    "bar.render('C_REIT bar.html')"
   ]
  },
  {
   "cell_type": "code",
   "execution_count": null,
   "metadata": {},
   "outputs": [],
   "source": []
  },
  {
   "cell_type": "code",
   "execution_count": null,
   "metadata": {},
   "outputs": [],
   "source": []
  }
 ],
 "metadata": {
  "kernelspec": {
   "display_name": "Python 3",
   "language": "python",
   "name": "python3"
  },
  "language_info": {
   "codemirror_mode": {
    "name": "ipython",
    "version": 3
   },
   "file_extension": ".py",
   "mimetype": "text/x-python",
   "name": "python",
   "nbconvert_exporter": "python",
   "pygments_lexer": "ipython3",
   "version": "3.7.1rc2"
  }
 },
 "nbformat": 4,
 "nbformat_minor": 2
}
